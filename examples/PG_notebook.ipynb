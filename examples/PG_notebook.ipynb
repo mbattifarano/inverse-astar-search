{
 "cells": [
  {
   "cell_type": "code",
   "execution_count": 2,
   "metadata": {
    "collapsed": true,
    "pycharm": {
     "is_executing": false
    }
   },
   "outputs": [],
   "source": [
    "from src.inverse_astar_search.network import *\n",
    "# from src.inverse_astar_search.pastar import *\n",
    "\n",
    "from src.inverse_astar_search.pastar import heuristic_bounds, astar_path_heuristic_nodes\\\n",
    "    , set_heuristic_costs_nodes, set_heuristic_costs_edges, get_edge_attributes_labels,path_generator\\\n",
    "    , chosen_edges, path_length, paths_lengths, neighbors_path\n",
    "\n",
    "from src.inverse_astar_search.logit import create_decision_matrix_from_observed_path\\\n",
    "    , logit_estimation, compute_edge_utility, logit_path_predictions, accuracy_pastar_predictions\n",
    "\n",
    "# External modules\n",
    "import numpy as np\n",
    "import networkx as nx"
   ]
  },
  {
   "cell_type": "code",
   "execution_count": 4,
   "outputs": [
    {
     "name": "stdout",
     "text": [
      "2.0\n"
     ],
     "output_type": "stream"
    }
   ],
   "source": [
    "def create_network_data(n_nodes, n_paths, theta_training):\n",
    "\n",
    "    nodes_G = n_nodes\n",
    "\n",
    "    # Adjacency matrix\n",
    "    A = np.random.randint(0, 2, [nodes_G, nodes_G])\n",
    "\n",
    "    # Assign random weight to edges\n",
    "    W = random_edge_weights(A=A, limits=(1, 100))\n",
    "\n",
    "    # Create networkX graph\n",
    "    G = create_network(W)\n",
    "\n",
    "    # Edges attributes\n",
    "\n",
    "    # - Distance [km]\n",
    "    nx.set_edge_attributes(G, values=nx.get_edge_attributes(G, 'weight'), name='distance')\n",
    "\n",
    "    # - Cost ($)\n",
    "    cost_edges = dict(zip(dict(G.edges).keys(), np.random.randint(0, 20, len(list(G.edges)))))\n",
    "    nx.set_edge_attributes(G, values=cost_edges, name='cost')\n",
    "\n",
    "    # - Travel time (mins)\n",
    "    speed = 20  # km/hr\n",
    "    travel_time_edges = dict(zip(dict(G.edges).keys(),\n",
    "                                 np.round(60 / speed * np.array(list(nx.get_edge_attributes(G, 'distance').values())),\n",
    "                                          1)))\n",
    "    nx.set_edge_attributes(G, values=travel_time_edges, name='travel_time')\n",
    "\n",
    "    # Utility at edges\n",
    "    utility_edges = compute_edge_utility(G, theta=theta_training)\n",
    "    nx.set_edge_attributes(G, utility_edges, name='utility')\n",
    "\n",
    "    # Weight equals to utility\n",
    "    weight_edges = {key: -val for key, val in nx.get_edge_attributes(G, 'utility').items()}\n",
    "    nx.set_edge_attributes(G, values=weight_edges, name='weight')\n",
    "\n",
    "    # Simulate observed paths\n",
    "    observed_paths = path_generator(G = G, n_pairs=n_paths, attribute='weight')\n",
    "\n",
    "    # Heuristic cost at edge level\n",
    "    G = heuristic_bounds(G=G, observed_path=observed_paths[0])\n",
    "    G = set_heuristic_costs_nodes(G)\n",
    "    G = set_heuristic_costs_edges(G)\n",
    "\n",
    "    # # Observed path (real observation)\n",
    "    # print((observed_paths[0], path_length(G, path=observed_paths[0], attribute='distance')))\n",
    "\n",
    "    # nx.get_node_attributes(G, 'f_bound_neighbor')\n",
    "    # nx.get_node_attributes(G, 'h_bound_neighbor')\n",
    "    # nx.get_node_attributes(G, 'h_bound_optimal')\n",
    "\n",
    "    return G, observed_paths\n",
    "\n",
    "# Preference parameters\n",
    "theta_G_training = {'travel_time': -4, 'cost': -2} #Signs are not required to be negative\n",
    "vot = theta_G_training['travel_time'] / theta_G_training['cost']\n",
    "\n",
    "G_training,observed_paths = create_network_data(n_nodes = 10, n_paths = 50, theta_training = theta_G_training)\n",
    "\n",
    "print(vot)"
   ],
   "metadata": {
    "collapsed": false,
    "pycharm": {
     "name": "#%%\n",
     "is_executing": false
    }
   }
  },
  {
   "cell_type": "code",
   "execution_count": null,
   "outputs": [],
   "source": [
    "\n"
   ],
   "metadata": {
    "collapsed": false,
    "pycharm": {
     "name": "#%%\n"
    }
   }
  }
 ],
 "metadata": {
  "kernelspec": {
   "name": "pycharm-155939f6",
   "language": "python",
   "display_name": "PyCharm (inverse-astar-search)"
  },
  "language_info": {
   "codemirror_mode": {
    "name": "ipython",
    "version": 2
   },
   "file_extension": ".py",
   "mimetype": "text/x-python",
   "name": "python",
   "nbconvert_exporter": "python",
   "pygments_lexer": "ipython2",
   "version": "2.7.6"
  },
  "pycharm": {
   "stem_cell": {
    "cell_type": "raw",
    "source": [],
    "metadata": {
     "collapsed": false
    }
   }
  }
 },
 "nbformat": 4,
 "nbformat_minor": 0
}